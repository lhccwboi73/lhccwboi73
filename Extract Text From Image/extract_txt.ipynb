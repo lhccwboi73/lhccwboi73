{
 "cells": [
  {
   "cell_type": "code",
   "execution_count": 2,
   "metadata": {
    "collapsed": true
   },
   "outputs": [
    {
     "name": "stdout",
     "output_type": "stream",
     "text": [
      "Requirement already satisfied: opencv-python in /home/luciano/.local/lib/python3.8/site-packages (4.5.3.56)\n",
      "Requirement already satisfied: numpy>=1.17.3 in /home/luciano/.local/lib/python3.8/site-packages (from opencv-python) (1.21.2)\n",
      "Requirement already satisfied: pytesseract in /home/luciano/.local/lib/python3.8/site-packages (0.3.8)\n",
      "Requirement already satisfied: Pillow in /usr/lib/python3/dist-packages (from pytesseract) (7.0.0)\n"
     ]
    }
   ],
   "source": [
    "# Instalar Bibliotecas\n",
    "!pip install opencv-python\n",
    "!pip install pytesseract"
   ]
  },
  {
   "cell_type": "code",
   "execution_count": 1,
   "metadata": {},
   "outputs": [
    {
     "name": "stdout",
     "output_type": "stream",
     "text": [
      " \n",
      "\n",
      "gh\n",
      "\n",
      "parendo loro che quelle fossero terre assai\n",
      "‘magre, non accettarono,\n",
      "\n",
      "E mentre atfendevano altra destinazione al-\n",
      "euni vennero a sapere ehe a poea distanza si\n",
      "poteva acquistar tenneno alle migliori condi-\n",
      "Zioni. Per buona sorte i coloni avevano (come\n",
      "hanno ancora) il. bernoceolo dell’economia,\n",
      "per cui, senza farsi gravi torti, avevano rag:\n",
      "granellato un pé di fiorini,\n",
      "\n",
      "Partiti dalla patria dove pit non avevano\n",
      "speranza di essere indipendenti o meglio trat-\n",
      "\n",
      "fati da padroni poco umani, non vedevano ~\n",
      "\n",
      "Yora di poter lavorare un terreno, fosse pure\n",
      "ristretto e di abitare una oasa, fosse pure di\n",
      "legno, di cui potessero dire: Quosta é roba\n",
      "nostra. E,Yora era vicina,\n",
      "\n",
      "FORMAZIONE DELLA COLONIA\n",
      "\n",
      "_ Alouni capi famiglia si portarono a vedere\n",
      "il terreno loro offerto © trovatolo buono ed in\n",
      "posizione salubre, decisero di comprarlo. Ques-\n",
      "ia prima compera venne falta in massa al\n",
      "‘prezzo di 80 mil reis all'alqueire dalle seguenti\n",
      "famiglie:\n",
      "\n",
      "Alberti Giovanni, Boscardin Fraceseo © tra-\n",
      "tello Luigi, presso i quali stava Latini Luca,\n",
      "‘Vedova Benalo Maddalena, Comparin Fran?\n",
      "ceseo, Cumin Calisto, Dalla’ Stella Giuseppe,\n",
      "Lucea, Giovanni e nipote, Muraro Bortolo, al.\n",
      "\n",
      "tro Muraro Bortolo detto Trevisanello, presso\n",
      "il quale stavano Santo Cuman, Giacomo Breda\n",
      "© Giovanni Casagrande; Menegusso Giovanni,\n",
      "Poletto Giovanni, presso cui slava Bacalfi Ba-\n",
      "‘lio; Paolin Antonio, Ravanello Giuseppe, Ta-\n",
      "liaro Sebastiano col nipote Giuseppe Vendra-\n",
      "min.\n",
      "\n",
      "‘A questo 14 famiglie se ne unf subito un’al-\n",
      "tra, quella di Slompo Bortolo, presso eui sta-\n",
      "va Pietro Volpe.\n",
      "\n",
      "Il terreno da esse comprato 6 quello che\n",
      "twoyasi all’ingresso della colonia verso la cittd,\n",
      "dalla casa Comparin sino al rio Vu, che da\n",
      "acqua al mulino di Boseardin, Venne ineari\n",
      "cato Vingegnere Lavagnini a misurare i ter-\n",
      "reno, porvi i termini © farne 15 loti, quanti\n",
      "erano le famiglie, ognuna delle quali si pres\n",
      "quello che le toced in sorte. Cid avveniva sui\n",
      "primi di Novembre del 4878.\n",
      "\n",
      "Subito ineomineiarono a seminare il gran-\n",
      "turco (milho) ed intanto abitavano qué e li\n",
      "in qualche stamberga di brasiliani o in barae-\n",
      "che improvvisale, Le prime ease italiane a\n",
      "sorgore furono quelle di Boseardin ¢ di Slom;\n",
      "po.\n",
      "\n",
      "PERCHE IL NOME DIS. FELICIDADE ?\n",
      "\n",
      "I proprietari del terreno acquistato erano i\n",
      "fratelli Antonio e Arlindo Borges e 1a sorella,\n",
      "Relicidade, maritata con Antonio Bandeira.\n",
      "\n",
      " \n",
      "\f",
      "\n"
     ]
    }
   ],
   "source": [
    "# Importar as Bibliotecas\n",
    "import pytesseract\n",
    "import cv2\n",
    "\n",
    "# Coloca a imagem dentro da variável\n",
    "imagem = cv2.imread(\"89.png\")\n",
    "\n",
    "# Extrai o Texto\n",
    "texto = pytesseract.image_to_string(imagem)\n",
    "\n",
    "# Exibe o texto\n",
    "print(texto)"
   ]
  },
  {
   "cell_type": "code",
   "execution_count": null,
   "metadata": {},
   "outputs": [],
   "source": []
  }
 ],
 "metadata": {
  "kernelspec": {
   "display_name": "Python 3",
   "language": "python",
   "name": "python3"
  },
  "language_info": {
   "codemirror_mode": {
    "name": "ipython",
    "version": 3
   },
   "file_extension": ".py",
   "mimetype": "text/x-python",
   "name": "python",
   "nbconvert_exporter": "python",
   "pygments_lexer": "ipython3",
   "version": "3.8.10"
  }
 },
 "nbformat": 4,
 "nbformat_minor": 4
}
