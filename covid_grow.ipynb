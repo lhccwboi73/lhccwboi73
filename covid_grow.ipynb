{
  "nbformat": 4,
  "nbformat_minor": 0,
  "metadata": {
    "colab": {
      "name": "covid_grow.ipynb",
      "provenance": [],
      "collapsed_sections": [],
      "mount_file_id": "1JcmoNZaPEgGF-nbfU8LYdT0E32xRWyPi",
      "authorship_tag": "ABX9TyO7pQErbAJtCzkZ+N2Odj7j",
      "include_colab_link": true
    },
    "kernelspec": {
      "name": "python3",
      "display_name": "Python 3"
    },
    "language_info": {
      "name": "python"
    }
  },
  "cells": [
    {
      "cell_type": "markdown",
      "metadata": {
        "id": "view-in-github",
        "colab_type": "text"
      },
      "source": [
        "<a href=\"https://colab.research.google.com/github/lhccwboi73/lhccwboi73/blob/main/covid_grow.ipynb\" target=\"_parent\"><img src=\"https://colab.research.google.com/assets/colab-badge.svg\" alt=\"Open In Colab\"/></a>"
      ]
    },
    {
      "cell_type": "markdown",
      "source": [
        "Importar as bibliotecas necessárias."
      ],
      "metadata": {
        "id": "C6w3e-YDujEz"
      }
    },
    {
      "cell_type": "code",
      "execution_count": null,
      "metadata": {
        "id": "SHelq2g6d042"
      },
      "outputs": [],
      "source": [
        "import pandas as pd\n",
        "import plotly.express as px\n"
      ]
    },
    {
      "cell_type": "markdown",
      "source": [
        "Carregar a base de dados na variável db_cwb"
      ],
      "metadata": {
        "id": "gbUiW6dcu1D5"
      }
    },
    {
      "cell_type": "code",
      "source": [
        "db_cwb = pd.read_csv('https://mid.curitiba.pr.gov.br/dadosabertos/CasosCovid19/2022-02-02_Casos_Covid_19_-_Base_de_Dados.csv', encoding=\"latin-1\", sep=';' , index_col=False)"
      ],
      "metadata": {
        "id": "1ZdzqAocen3u"
      },
      "execution_count": null,
      "outputs": []
    },
    {
      "cell_type": "markdown",
      "source": [
        "Visualizações da base de dados e alguns tratamentos mínimos"
      ],
      "metadata": {
        "id": "hwdttl3Pu98w"
      }
    },
    {
      "cell_type": "code",
      "source": [
        "db_cwb"
      ],
      "metadata": {
        "id": "WwJgA9T8e29t"
      },
      "execution_count": null,
      "outputs": []
    },
    {
      "cell_type": "code",
      "source": [
        "db_cwb['DATA INCLUSÃO/ NOTIFICAÇÃO']"
      ],
      "metadata": {
        "id": "vVWbTtCfiOrF"
      },
      "execution_count": null,
      "outputs": []
    },
    {
      "cell_type": "code",
      "source": [
        "db_cwb['DATA INCLUSÃO/ NOTIFICAÇÃO'] = pd.to_datetime(db_cwb['DATA INCLUSÃO/ NOTIFICAÇÃO'], format='%d/%m/%Y')"
      ],
      "metadata": {
        "id": "HJPrFKQqVkpM"
      },
      "execution_count": null,
      "outputs": []
    },
    {
      "cell_type": "code",
      "source": [
        "db_cwb"
      ],
      "metadata": {
        "id": "ILI5gmw7WCUh"
      },
      "execution_count": null,
      "outputs": []
    },
    {
      "cell_type": "code",
      "source": [
        "filtered_df = db_cwb.loc[(db_cwb['DATA INCLUSÃO/ NOTIFICAÇÃO'] >= '2021-12-01')]"
      ],
      "metadata": {
        "id": "14baeO7NWGJB"
      },
      "execution_count": null,
      "outputs": []
    },
    {
      "cell_type": "code",
      "source": [
        "filtered_df = filtered_df.reset_index()"
      ],
      "metadata": {
        "id": "AALuX6ABf5bk"
      },
      "execution_count": null,
      "outputs": []
    },
    {
      "cell_type": "code",
      "source": [
        "filtered_df = filtered_df.rename(columns={\"DATA INCLUSÃO/ NOTIFICAÇÃO\":\"Data\"})"
      ],
      "metadata": {
        "id": "lU1mAu-ViETm"
      },
      "execution_count": null,
      "outputs": []
    },
    {
      "cell_type": "code",
      "source": [
        "filtered_df"
      ],
      "metadata": {
        "id": "2d7JeHDQllbc"
      },
      "execution_count": null,
      "outputs": []
    },
    {
      "cell_type": "markdown",
      "source": [
        "Tentativas de lidar com a coluna index..."
      ],
      "metadata": {
        "id": "VBUTRGCxvKHf"
      }
    },
    {
      "cell_type": "code",
      "source": [
        "df_new = filtered_df.set_index('index')"
      ],
      "metadata": {
        "id": "KqR2jdUQoNqe"
      },
      "execution_count": null,
      "outputs": []
    },
    {
      "cell_type": "code",
      "source": [
        "filtered_df['index'] = range(1, len(filtered_df) + 1)"
      ],
      "metadata": {
        "id": "xMwGd2q_ny1e"
      },
      "execution_count": null,
      "outputs": []
    },
    {
      "cell_type": "code",
      "source": [
        "del filtered_df['index']"
      ],
      "metadata": {
        "id": "MRDtXmYpmjlL"
      },
      "execution_count": null,
      "outputs": []
    },
    {
      "cell_type": "code",
      "source": [
        "df_new"
      ],
      "metadata": {
        "id": "WJotuwC5odFM"
      },
      "execution_count": null,
      "outputs": []
    },
    {
      "cell_type": "markdown",
      "source": [
        "Mostra quantidades dividido por SEXO"
      ],
      "metadata": {
        "id": "oMum036xvTz_"
      }
    },
    {
      "cell_type": "code",
      "source": [
        "df_new.groupby('SEXO').count()"
      ],
      "metadata": {
        "id": "Gz0LZ-iVB9IM"
      },
      "execution_count": null,
      "outputs": []
    },
    {
      "cell_type": "markdown",
      "source": [
        "Soma o número de casos confirmados por data e atribui esse filtro a nova variável. Mais alguns tratamentos, ordenar as colunas e renomeá-las."
      ],
      "metadata": {
        "id": "CBF-VYQ9vjAH"
      }
    },
    {
      "cell_type": "code",
      "source": [
        "df_new.groupby('Data').count()"
      ],
      "metadata": {
        "id": "EwOW3hV3LVFk"
      },
      "execution_count": null,
      "outputs": []
    },
    {
      "cell_type": "code",
      "source": [
        "df_plot = df_new.groupby('Data').count()"
      ],
      "metadata": {
        "id": "nnMX1RqfMJxB"
      },
      "execution_count": null,
      "outputs": []
    },
    {
      "cell_type": "code",
      "source": [
        " df_plot.head()"
      ],
      "metadata": {
        "id": "Y49RnDKOMRhg"
      },
      "execution_count": null,
      "outputs": []
    },
    {
      "cell_type": "code",
      "source": [
        "df_plot.sort_index(axis=1)"
      ],
      "metadata": {
        "id": "xObjLY6KN7PM"
      },
      "execution_count": null,
      "outputs": []
    },
    {
      "cell_type": "code",
      "source": [
        "# df_plot['CONFIRMADO'].sum()"
      ],
      "metadata": {
        "id": "gZW8P09EWUlF"
      },
      "execution_count": null,
      "outputs": []
    },
    {
      "cell_type": "code",
      "source": [
        "df_plot.reset_index(inplace=True)\n",
        "df_plot = df_plot.rename(columns = {'Data':'DATA'})"
      ],
      "metadata": {
        "id": "TBxaxNLyOoFF"
      },
      "execution_count": null,
      "outputs": []
    },
    {
      "cell_type": "code",
      "source": [
        "df_plot = df_plot.rename(columns = {'CLASSIFICAÇÃO FINAL':'CONFIRMADO'})"
      ],
      "metadata": {
        "id": "3bI6HXkATUOb"
      },
      "execution_count": null,
      "outputs": []
    },
    {
      "cell_type": "code",
      "source": [
        "df_plot = df_plot.rename(columns = {'IDADE (anos)':'QUANTIDADE'})"
      ],
      "metadata": {
        "id": "YRI_jo-eT9Kr"
      },
      "execution_count": null,
      "outputs": []
    },
    {
      "cell_type": "markdown",
      "source": [
        "Gerar o gráfico comparativo entre o número de casos confirmados com as datas."
      ],
      "metadata": {
        "id": "DzYVtFE_wEVF"
      }
    },
    {
      "cell_type": "code",
      "source": [
        "fig = px.line(df_plot, x='DATA', y='CONFIRMADO', title='EVOLUÇÃO DOS CASOS DE COVID DEZ/21 a JAN/22 EM CURITIBA', text='QUANTIDADE')\n",
        "fig.show()"
      ],
      "metadata": {
        "id": "X-WtPmsIL0uS"
      },
      "execution_count": null,
      "outputs": []
    },
    {
      "cell_type": "markdown",
      "source": [
        "Gerar arquivo com conteúdo interativo para distribuição. "
      ],
      "metadata": {
        "id": "qGJDhiiWwO__"
      }
    },
    {
      "cell_type": "code",
      "source": [
        "# fig.write_html(\"file.html\")"
      ],
      "metadata": {
        "id": "4sTAMDCFASm7"
      },
      "execution_count": null,
      "outputs": []
    },
    {
      "cell_type": "code",
      "source": [
        "db_cwb.head()"
      ],
      "metadata": {
        "id": "jvpnyzyhayXV"
      },
      "execution_count": null,
      "outputs": []
    },
    {
      "cell_type": "code",
      "source": [
        "db_cwb.groupby('BAIRRO').count()"
      ],
      "metadata": {
        "id": "aLD08KkTa4jb"
      },
      "execution_count": null,
      "outputs": []
    },
    {
      "cell_type": "code",
      "source": [
        "bairros = db_cwb.groupby('BAIRRO').count()"
      ],
      "metadata": {
        "id": "0f6HI9_xbraL"
      },
      "execution_count": null,
      "outputs": []
    },
    {
      "cell_type": "code",
      "source": [
        "bairros.sort_values(['BAIRRO'], ascending=True)"
      ],
      "metadata": {
        "id": "Ew-x9Vwjby-i"
      },
      "execution_count": null,
      "outputs": []
    },
    {
      "cell_type": "code",
      "source": [
        "pd.set_option('max_rows', None) "
      ],
      "metadata": {
        "id": "CN9FjgbidsDd"
      },
      "execution_count": null,
      "outputs": []
    },
    {
      "cell_type": "code",
      "source": [
        "bairros"
      ],
      "metadata": {
        "id": "DiqzNM4reiJ9"
      },
      "execution_count": null,
      "outputs": []
    }
  ]
}